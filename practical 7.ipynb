{
 "cells": [
  {
   "cell_type": "code",
   "execution_count": 1,
   "metadata": {
    "id": "LWXIrnfPXeuB"
   },
   "outputs": [],
   "source": [
    "# ## Import Libraries\n",
    "import nltk\n",
    "from nltk.tokenize import word_tokenize\n",
    "from nltk.tag import pos_tag\n",
    "from nltk.corpus import stopwords\n",
    "from nltk.stem import PorterStemmer, WordNetLemmatizer\n",
    "from nltk.corpus import wordnet\n",
    "from sklearn.feature_extraction.text import TfidfVectorizer\n",
    "import pandas as pd"
   ]
  },
  {
   "cell_type": "code",
   "execution_count": 2,
   "metadata": {
    "colab": {
     "base_uri": "https://localhost:8080/"
    },
    "id": "5X7gyJ5TXhYF",
    "outputId": "698f1df0-357e-4e12-e8c4-2e26f4791ad0"
   },
   "outputs": [
    {
     "name": "stderr",
     "output_type": "stream",
     "text": [
      "[nltk_data] Downloading package punkt_tab to\n",
      "[nltk_data]     C:\\Users\\Admin\\AppData\\Roaming\\nltk_data...\n",
      "[nltk_data]   Package punkt_tab is already up-to-date!\n",
      "[nltk_data] Downloading package averaged_perceptron_tagger to\n",
      "[nltk_data]     C:\\Users\\Admin\\AppData\\Roaming\\nltk_data...\n",
      "[nltk_data]   Package averaged_perceptron_tagger is already up-to-\n",
      "[nltk_data]       date!\n",
      "[nltk_data] Downloading package averaged_perceptron_tagger_eng to\n",
      "[nltk_data]     C:\\Users\\Admin\\AppData\\Roaming\\nltk_data...\n",
      "[nltk_data]   Unzipping taggers\\averaged_perceptron_tagger_eng.zip.\n",
      "[nltk_data] Downloading package stopwords to\n",
      "[nltk_data]     C:\\Users\\Admin\\AppData\\Roaming\\nltk_data...\n",
      "[nltk_data]   Package stopwords is already up-to-date!\n",
      "[nltk_data] Downloading package wordnet to\n",
      "[nltk_data]     C:\\Users\\Admin\\AppData\\Roaming\\nltk_data...\n",
      "[nltk_data]   Package wordnet is already up-to-date!\n",
      "[nltk_data] Downloading package punkt to\n",
      "[nltk_data]     C:\\Users\\Admin\\AppData\\Roaming\\nltk_data...\n",
      "[nltk_data]   Package punkt is already up-to-date!\n",
      "[nltk_data] Downloading package omw-1.4 to\n",
      "[nltk_data]     C:\\Users\\Admin\\AppData\\Roaming\\nltk_data...\n"
     ]
    },
    {
     "data": {
      "text/plain": [
       "True"
      ]
     },
     "execution_count": 2,
     "metadata": {},
     "output_type": "execute_result"
    }
   ],
   "source": [
    "import nltk\n",
    "nltk.download('punkt_tab')\n",
    "nltk.download('averaged_perceptron_tagger')\n",
    "nltk.download('averaged_perceptron_tagger_eng')\n",
    "nltk.download('stopwords')\n",
    "nltk.download('wordnet')\n",
    "nltk.download('punkt')\n",
    "nltk.download('omw-1.4')"
   ]
  },
  {
   "cell_type": "code",
   "execution_count": 3,
   "metadata": {
    "id": "qKdRhhcsXmVT"
   },
   "outputs": [],
   "source": [
    "sample_document = \"The quick brown fox jumps over the lazy dogs. The dogs bark loudly at the playful fox.\""
   ]
  },
  {
   "cell_type": "code",
   "execution_count": 4,
   "metadata": {
    "colab": {
     "base_uri": "https://localhost:8080/"
    },
    "id": "GPJOHSGiXpbY",
    "outputId": "a222c708-aca6-4634-8120-eb25289e250c"
   },
   "outputs": [
    {
     "name": "stdout",
     "output_type": "stream",
     "text": [
      "Tokens: ['The', 'quick', 'brown', 'fox', 'jumps', 'over', 'the', 'lazy', 'dogs', '.', 'The', 'dogs', 'bark', 'loudly', 'at', 'the', 'playful', 'fox', '.']\n"
     ]
    }
   ],
   "source": [
    "# **a) Tokenization**\n",
    "tokens = word_tokenize(sample_document)\n",
    "print(\"Tokens:\", tokens)"
   ]
  },
  {
   "cell_type": "code",
   "execution_count": 5,
   "metadata": {
    "colab": {
     "base_uri": "https://localhost:8080/"
    },
    "id": "WF-wc-OKXwB4",
    "outputId": "29cb446e-d558-4a68-f670-472c949f9cba"
   },
   "outputs": [
    {
     "name": "stdout",
     "output_type": "stream",
     "text": [
      "\n",
      "POS Tags: [('The', 'DT'), ('quick', 'JJ'), ('brown', 'NN'), ('fox', 'NN'), ('jumps', 'VBZ'), ('over', 'IN'), ('the', 'DT'), ('lazy', 'JJ'), ('dogs', 'NNS'), ('.', '.'), ('The', 'DT'), ('dogs', 'NNS'), ('bark', 'VBP'), ('loudly', 'RB'), ('at', 'IN'), ('the', 'DT'), ('playful', 'JJ'), ('fox', 'NN'), ('.', '.')]\n"
     ]
    }
   ],
   "source": [
    "# **b) POS Tagging**\n",
    "pos_tags = pos_tag(tokens)\n",
    "print(\"\\nPOS Tags:\", pos_tags)"
   ]
  },
  {
   "cell_type": "code",
   "execution_count": 6,
   "metadata": {
    "colab": {
     "base_uri": "https://localhost:8080/"
    },
    "id": "dwwCdz69XyzC",
    "outputId": "61a7c1d9-e9ad-47f0-c218-103258ab7333"
   },
   "outputs": [
    {
     "name": "stdout",
     "output_type": "stream",
     "text": [
      "\n",
      "Tokens after Stop Word Removal: ['quick', 'brown', 'fox', 'jumps', 'lazy', 'dogs', 'dogs', 'bark', 'loudly', 'playful', 'fox']\n"
     ]
    }
   ],
   "source": [
    "# **c) Stop Words Removal**\n",
    "stop_words = set(stopwords.words('english'))\n",
    "filtered_tokens = [word.lower() for word in tokens if word.lower() not in stop_words and word.isalnum()]\n",
    "print(\"\\nTokens after Stop Word Removal:\", filtered_tokens)"
   ]
  },
  {
   "cell_type": "code",
   "execution_count": 7,
   "metadata": {
    "colab": {
     "base_uri": "https://localhost:8080/"
    },
    "id": "1nPfkDOVY7hE",
    "outputId": "80c6421d-18ee-48be-fa09-bec535821d9c"
   },
   "outputs": [
    {
     "name": "stdout",
     "output_type": "stream",
     "text": [
      "\n",
      "Stemmed Tokens: ['quick', 'brown', 'fox', 'jump', 'lazi', 'dog', 'dog', 'bark', 'loudli', 'play', 'fox']\n"
     ]
    }
   ],
   "source": [
    "# **d) Stemming**\n",
    "porter_stemmer = PorterStemmer()\n",
    "stemmed_tokens = [porter_stemmer.stem(word) for word in filtered_tokens]\n",
    "print(\"\\nStemmed Tokens:\", stemmed_tokens)"
   ]
  },
  {
   "cell_type": "code",
   "execution_count": 8,
   "metadata": {
    "id": "8Sdb6AyPZAaa"
   },
   "outputs": [],
   "source": [
    "# **e) Lemmatization**\n",
    "wordnet_lemmatizer = WordNetLemmatizer()"
   ]
  },
  {
   "cell_type": "code",
   "execution_count": 9,
   "metadata": {
    "id": "dqNhaWDIZCFU"
   },
   "outputs": [],
   "source": [
    "def get_wordnet_pos(tag):\n",
    "    if tag.startswith('J'):\n",
    "        return wordnet.ADJ\n",
    "    elif tag.startswith('V'):\n",
    "        return wordnet.VERB\n",
    "    elif tag.startswith('N'):\n",
    "        return wordnet.NOUN\n",
    "    elif tag.startswith('R'):\n",
    "        return wordnet.ADV\n",
    "    else:\n",
    "        return wordnet.NOUN # Default to noun"
   ]
  },
  {
   "cell_type": "code",
   "execution_count": 10,
   "metadata": {
    "colab": {
     "base_uri": "https://localhost:8080/"
    },
    "id": "-rfo8ss6ZFB8",
    "outputId": "3fd84b4b-cca1-4a73-c9a3-9ec083d919e5"
   },
   "outputs": [
    {
     "name": "stdout",
     "output_type": "stream",
     "text": [
      "\n",
      "Lemmatized Tokens: ['quick', 'brown', 'fox', 'jump', 'lazy', 'dog', 'dog', 'bark', 'loudly', 'playful', 'fox']\n"
     ]
    }
   ],
   "source": [
    "lemmatized_tokens = [wordnet_lemmatizer.lemmatize(word.lower(), pos=get_wordnet_pos(tag))\n",
    "                     for word, tag in pos_tag(filtered_tokens)]\n",
    "print(\"\\nLemmatized Tokens:\", lemmatized_tokens)"
   ]
  },
  {
   "cell_type": "code",
   "execution_count": 11,
   "metadata": {
    "id": "VP-z7XuGZHaf"
   },
   "outputs": [],
   "source": [
    "# ## 3. Document Representation: TF-IDF\n",
    "corpus = [\n",
    "    \"The quick brown fox jumps over the lazy dogs. The dogs bark loudly at the playful fox.\",\n",
    "    \"A swift black cat leaps across the sleeping mat. The cat meows softly near the warm rug.\"\n",
    "]"
   ]
  },
  {
   "cell_type": "code",
   "execution_count": 12,
   "metadata": {
    "id": "csDZeYapZLEL"
   },
   "outputs": [],
   "source": [
    "# Initialize TF-IDF Vectorizer\n",
    "tfidf_vectorizer = TfidfVectorizer()"
   ]
  },
  {
   "cell_type": "code",
   "execution_count": 13,
   "metadata": {
    "id": "NnTL_FdYZNJb"
   },
   "outputs": [],
   "source": [
    "# Fit and transform the corpus\n",
    "tfidf_matrix = tfidf_vectorizer.fit_transform(corpus)"
   ]
  },
  {
   "cell_type": "code",
   "execution_count": 14,
   "metadata": {
    "id": "9Oi6F7HEZPOb"
   },
   "outputs": [],
   "source": [
    "# Get the feature names (words in the vocabulary)\n",
    "feature_names = tfidf_vectorizer.get_feature_names_out()"
   ]
  },
  {
   "cell_type": "code",
   "execution_count": 15,
   "metadata": {
    "id": "cuJ1UqcFZQoz"
   },
   "outputs": [],
   "source": [
    "# Convert the TF-IDF matrix to a DataFrame for better readability\n",
    "tfidf_df = pd.DataFrame(tfidf_matrix.toarray(), columns=feature_names)"
   ]
  },
  {
   "cell_type": "code",
   "execution_count": 16,
   "metadata": {
    "colab": {
     "base_uri": "https://localhost:8080/"
    },
    "id": "HvS5iNsZZSNv",
    "outputId": "d64d3f54-f9b2-4be8-b087-8d72fa2f5c61"
   },
   "outputs": [
    {
     "name": "stdout",
     "output_type": "stream",
     "text": [
      "\n",
      "TF-IDF Representation of the Corpus:\n",
      "    across        at      bark    black     brown      cat      dogs  \\\n",
      "0  0.00000  0.199602  0.199602  0.00000  0.199602  0.00000  0.399203   \n",
      "1  0.22613  0.000000  0.000000  0.22613  0.000000  0.45226  0.000000   \n",
      "\n",
      "        fox     jumps      lazy  ...     near      over   playful     quick  \\\n",
      "0  0.399203  0.199602  0.199602  ...  0.00000  0.199602  0.199602  0.199602   \n",
      "1  0.000000  0.000000  0.000000  ...  0.22613  0.000000  0.000000  0.000000   \n",
      "\n",
      "       rug  sleeping   softly    swift       the     warm  \n",
      "0  0.00000   0.00000  0.00000  0.00000  0.568073  0.00000  \n",
      "1  0.22613   0.22613  0.22613  0.22613  0.482680  0.22613  \n",
      "\n",
      "[2 rows x 24 columns]\n"
     ]
    }
   ],
   "source": [
    "print(\"\\nTF-IDF Representation of the Corpus:\")\n",
    "print(tfidf_df)"
   ]
  },
  {
   "cell_type": "code",
   "execution_count": 17,
   "metadata": {
    "colab": {
     "base_uri": "https://localhost:8080/"
    },
    "id": "-c1BPZNiZTvV",
    "outputId": "7bb73064-adf6-4aba-bd8e-faed72cac7bd"
   },
   "outputs": [
    {
     "name": "stdout",
     "output_type": "stream",
     "text": [
      "\n",
      "TF-IDF Representation of the Sample Document:\n",
      "across      0.000000\n",
      "at          0.199602\n",
      "bark        0.199602\n",
      "black       0.000000\n",
      "brown       0.199602\n",
      "cat         0.000000\n",
      "dogs        0.399203\n",
      "fox         0.399203\n",
      "jumps       0.199602\n",
      "lazy        0.199602\n",
      "leaps       0.000000\n",
      "loudly      0.199602\n",
      "mat         0.000000\n",
      "meows       0.000000\n",
      "near        0.000000\n",
      "over        0.199602\n",
      "playful     0.199602\n",
      "quick       0.199602\n",
      "rug         0.000000\n",
      "sleeping    0.000000\n",
      "softly      0.000000\n",
      "swift       0.000000\n",
      "the         0.568073\n",
      "warm        0.000000\n",
      "Name: 0, dtype: float64\n"
     ]
    }
   ],
   "source": [
    "# To get the TF-IDF representation of our original sample document (the first row):\n",
    "print(\"\\nTF-IDF Representation of the Sample Document:\")\n",
    "print(tfidf_df.iloc[0])"
   ]
  }
 ],
 "metadata": {
  "colab": {
   "provenance": []
  },
  "kernelspec": {
   "display_name": "Python 3 (ipykernel)",
   "language": "python",
   "name": "python3"
  },
  "language_info": {
   "codemirror_mode": {
    "name": "ipython",
    "version": 3
   },
   "file_extension": ".py",
   "mimetype": "text/x-python",
   "name": "python",
   "nbconvert_exporter": "python",
   "pygments_lexer": "ipython3",
   "version": "3.13.2"
  }
 },
 "nbformat": 4,
 "nbformat_minor": 4
}
